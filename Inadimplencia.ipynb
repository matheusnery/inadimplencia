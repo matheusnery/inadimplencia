{
  "nbformat": 4,
  "nbformat_minor": 0,
  "metadata": {
    "colab": {
      "name": "Case.ipynb",
      "provenance": []
    },
    "kernelspec": {
      "name": "python3",
      "display_name": "Python 3"
    },
    "language_info": {
      "name": "python"
    }
  },
  "cells": [
    {
      "cell_type": "code",
      "metadata": {
        "id": "ufrytcJ8Mez4"
      },
      "source": [
        "import pandas as pd \n",
        "import numpy as np\n",
        "import matplotlib.pyplot as plt\n",
        "import seaborn as sns\n",
        "\n",
        "from sklearn.model_selection import train_test_split"
      ],
      "execution_count": 1,
      "outputs": []
    },
    {
      "cell_type": "code",
      "metadata": {
        "colab": {
          "base_uri": "https://localhost:8080/"
        },
        "id": "mbHleUy5MmPx",
        "outputId": "8decfeaa-18f3-465f-96e9-f78915a2b861"
      },
      "source": [
        "url = 'https://raw.githubusercontent.com/matheusnery/inadimplencia/main/treino.csv'\n",
        "df = pd.read_csv(url)\n",
        "print(df.head(5))\n"
      ],
      "execution_count": 2,
      "outputs": [
        {
          "output_type": "stream",
          "name": "stdout",
          "text": [
            "   inadimplente  ...  numero_de_dependentes\n",
            "0             1  ...                    2.0\n",
            "1             0  ...                    1.0\n",
            "2             0  ...                    0.0\n",
            "3             0  ...                    0.0\n",
            "4             0  ...                    0.0\n",
            "\n",
            "[5 rows x 11 columns]\n"
          ]
        }
      ]
    },
    {
      "cell_type": "code",
      "metadata": {
        "colab": {
          "base_uri": "https://localhost:8080/",
          "height": 224
        },
        "id": "UVAgrfvvPDNT",
        "outputId": "38c80af1-ac4c-4906-c57a-60445c8045de"
      },
      "source": [
        "df.head()"
      ],
      "execution_count": 3,
      "outputs": [
        {
          "output_type": "execute_result",
          "data": {
            "text/html": [
              "<div>\n",
              "<style scoped>\n",
              "    .dataframe tbody tr th:only-of-type {\n",
              "        vertical-align: middle;\n",
              "    }\n",
              "\n",
              "    .dataframe tbody tr th {\n",
              "        vertical-align: top;\n",
              "    }\n",
              "\n",
              "    .dataframe thead th {\n",
              "        text-align: right;\n",
              "    }\n",
              "</style>\n",
              "<table border=\"1\" class=\"dataframe\">\n",
              "  <thead>\n",
              "    <tr style=\"text-align: right;\">\n",
              "      <th></th>\n",
              "      <th>inadimplente</th>\n",
              "      <th>util_linhas_inseguras</th>\n",
              "      <th>idade</th>\n",
              "      <th>vezes_passou_de_30_59_dias</th>\n",
              "      <th>razao_debito</th>\n",
              "      <th>salario_mensal</th>\n",
              "      <th>numero_linhas_crdto_aberto</th>\n",
              "      <th>numero_vezes_passou_90_dias</th>\n",
              "      <th>numero_emprestimos_imobiliarios</th>\n",
              "      <th>numero_de_vezes_que_passou_60_89_dias</th>\n",
              "      <th>numero_de_dependentes</th>\n",
              "    </tr>\n",
              "  </thead>\n",
              "  <tbody>\n",
              "    <tr>\n",
              "      <th>0</th>\n",
              "      <td>1</td>\n",
              "      <td>0.766127</td>\n",
              "      <td>45</td>\n",
              "      <td>2</td>\n",
              "      <td>0.802982</td>\n",
              "      <td>9120.0</td>\n",
              "      <td>13</td>\n",
              "      <td>0</td>\n",
              "      <td>6</td>\n",
              "      <td>0</td>\n",
              "      <td>2.0</td>\n",
              "    </tr>\n",
              "    <tr>\n",
              "      <th>1</th>\n",
              "      <td>0</td>\n",
              "      <td>0.957151</td>\n",
              "      <td>40</td>\n",
              "      <td>0</td>\n",
              "      <td>0.121876</td>\n",
              "      <td>2600.0</td>\n",
              "      <td>4</td>\n",
              "      <td>0</td>\n",
              "      <td>0</td>\n",
              "      <td>0</td>\n",
              "      <td>1.0</td>\n",
              "    </tr>\n",
              "    <tr>\n",
              "      <th>2</th>\n",
              "      <td>0</td>\n",
              "      <td>0.658180</td>\n",
              "      <td>38</td>\n",
              "      <td>1</td>\n",
              "      <td>0.085113</td>\n",
              "      <td>3042.0</td>\n",
              "      <td>2</td>\n",
              "      <td>1</td>\n",
              "      <td>0</td>\n",
              "      <td>0</td>\n",
              "      <td>0.0</td>\n",
              "    </tr>\n",
              "    <tr>\n",
              "      <th>3</th>\n",
              "      <td>0</td>\n",
              "      <td>0.233810</td>\n",
              "      <td>30</td>\n",
              "      <td>0</td>\n",
              "      <td>0.036050</td>\n",
              "      <td>3300.0</td>\n",
              "      <td>5</td>\n",
              "      <td>0</td>\n",
              "      <td>0</td>\n",
              "      <td>0</td>\n",
              "      <td>0.0</td>\n",
              "    </tr>\n",
              "    <tr>\n",
              "      <th>4</th>\n",
              "      <td>0</td>\n",
              "      <td>0.907239</td>\n",
              "      <td>49</td>\n",
              "      <td>1</td>\n",
              "      <td>0.024926</td>\n",
              "      <td>63588.0</td>\n",
              "      <td>7</td>\n",
              "      <td>0</td>\n",
              "      <td>1</td>\n",
              "      <td>0</td>\n",
              "      <td>0.0</td>\n",
              "    </tr>\n",
              "  </tbody>\n",
              "</table>\n",
              "</div>"
            ],
            "text/plain": [
              "   inadimplente  ...  numero_de_dependentes\n",
              "0             1  ...                    2.0\n",
              "1             0  ...                    1.0\n",
              "2             0  ...                    0.0\n",
              "3             0  ...                    0.0\n",
              "4             0  ...                    0.0\n",
              "\n",
              "[5 rows x 11 columns]"
            ]
          },
          "metadata": {},
          "execution_count": 3
        }
      ]
    },
    {
      "cell_type": "code",
      "metadata": {
        "colab": {
          "base_uri": "https://localhost:8080/"
        },
        "id": "rSTg1HBISBGV",
        "outputId": "9c201605-abb6-4dc1-971e-008dbd781c4b"
      },
      "source": [
        "df.info()"
      ],
      "execution_count": 4,
      "outputs": [
        {
          "output_type": "stream",
          "name": "stdout",
          "text": [
            "<class 'pandas.core.frame.DataFrame'>\n",
            "RangeIndex: 110000 entries, 0 to 109999\n",
            "Data columns (total 11 columns):\n",
            " #   Column                                 Non-Null Count   Dtype  \n",
            "---  ------                                 --------------   -----  \n",
            " 0   inadimplente                           110000 non-null  int64  \n",
            " 1   util_linhas_inseguras                  110000 non-null  float64\n",
            " 2   idade                                  110000 non-null  int64  \n",
            " 3   vezes_passou_de_30_59_dias             110000 non-null  int64  \n",
            " 4   razao_debito                           110000 non-null  float64\n",
            " 5   salario_mensal                         88237 non-null   float64\n",
            " 6   numero_linhas_crdto_aberto             110000 non-null  int64  \n",
            " 7   numero_vezes_passou_90_dias            110000 non-null  int64  \n",
            " 8   numero_emprestimos_imobiliarios        110000 non-null  int64  \n",
            " 9   numero_de_vezes_que_passou_60_89_dias  110000 non-null  int64  \n",
            " 10  numero_de_dependentes                  107122 non-null  float64\n",
            "dtypes: float64(4), int64(7)\n",
            "memory usage: 9.2 MB\n"
          ]
        }
      ]
    },
    {
      "cell_type": "code",
      "metadata": {
        "colab": {
          "base_uri": "https://localhost:8080/",
          "height": 317
        },
        "id": "F5LlO_Y7SBVE",
        "outputId": "8be47547-5a19-4ba7-c18f-0cb0580a652b"
      },
      "source": [
        "df.describe()"
      ],
      "execution_count": 5,
      "outputs": [
        {
          "output_type": "execute_result",
          "data": {
            "text/html": [
              "<div>\n",
              "<style scoped>\n",
              "    .dataframe tbody tr th:only-of-type {\n",
              "        vertical-align: middle;\n",
              "    }\n",
              "\n",
              "    .dataframe tbody tr th {\n",
              "        vertical-align: top;\n",
              "    }\n",
              "\n",
              "    .dataframe thead th {\n",
              "        text-align: right;\n",
              "    }\n",
              "</style>\n",
              "<table border=\"1\" class=\"dataframe\">\n",
              "  <thead>\n",
              "    <tr style=\"text-align: right;\">\n",
              "      <th></th>\n",
              "      <th>inadimplente</th>\n",
              "      <th>util_linhas_inseguras</th>\n",
              "      <th>idade</th>\n",
              "      <th>vezes_passou_de_30_59_dias</th>\n",
              "      <th>razao_debito</th>\n",
              "      <th>salario_mensal</th>\n",
              "      <th>numero_linhas_crdto_aberto</th>\n",
              "      <th>numero_vezes_passou_90_dias</th>\n",
              "      <th>numero_emprestimos_imobiliarios</th>\n",
              "      <th>numero_de_vezes_que_passou_60_89_dias</th>\n",
              "      <th>numero_de_dependentes</th>\n",
              "    </tr>\n",
              "  </thead>\n",
              "  <tbody>\n",
              "    <tr>\n",
              "      <th>count</th>\n",
              "      <td>110000.000000</td>\n",
              "      <td>110000.000000</td>\n",
              "      <td>110000.000000</td>\n",
              "      <td>110000.000000</td>\n",
              "      <td>110000.000000</td>\n",
              "      <td>8.823700e+04</td>\n",
              "      <td>110000.000000</td>\n",
              "      <td>110000.000000</td>\n",
              "      <td>110000.000000</td>\n",
              "      <td>110000.000000</td>\n",
              "      <td>107122.000000</td>\n",
              "    </tr>\n",
              "    <tr>\n",
              "      <th>mean</th>\n",
              "      <td>0.066645</td>\n",
              "      <td>5.929979</td>\n",
              "      <td>52.255636</td>\n",
              "      <td>0.424055</td>\n",
              "      <td>354.823589</td>\n",
              "      <td>6.637411e+03</td>\n",
              "      <td>8.445573</td>\n",
              "      <td>0.269955</td>\n",
              "      <td>1.019891</td>\n",
              "      <td>0.243891</td>\n",
              "      <td>0.757482</td>\n",
              "    </tr>\n",
              "    <tr>\n",
              "      <th>std</th>\n",
              "      <td>0.249408</td>\n",
              "      <td>252.301965</td>\n",
              "      <td>14.768241</td>\n",
              "      <td>4.240780</td>\n",
              "      <td>2074.140421</td>\n",
              "      <td>1.338395e+04</td>\n",
              "      <td>5.139026</td>\n",
              "      <td>4.217326</td>\n",
              "      <td>1.135989</td>\n",
              "      <td>4.204137</td>\n",
              "      <td>1.114670</td>\n",
              "    </tr>\n",
              "    <tr>\n",
              "      <th>min</th>\n",
              "      <td>0.000000</td>\n",
              "      <td>0.000000</td>\n",
              "      <td>0.000000</td>\n",
              "      <td>0.000000</td>\n",
              "      <td>0.000000</td>\n",
              "      <td>0.000000e+00</td>\n",
              "      <td>0.000000</td>\n",
              "      <td>0.000000</td>\n",
              "      <td>0.000000</td>\n",
              "      <td>0.000000</td>\n",
              "      <td>0.000000</td>\n",
              "    </tr>\n",
              "    <tr>\n",
              "      <th>25%</th>\n",
              "      <td>0.000000</td>\n",
              "      <td>0.030054</td>\n",
              "      <td>41.000000</td>\n",
              "      <td>0.000000</td>\n",
              "      <td>0.175016</td>\n",
              "      <td>3.400000e+03</td>\n",
              "      <td>5.000000</td>\n",
              "      <td>0.000000</td>\n",
              "      <td>0.000000</td>\n",
              "      <td>0.000000</td>\n",
              "      <td>0.000000</td>\n",
              "    </tr>\n",
              "    <tr>\n",
              "      <th>50%</th>\n",
              "      <td>0.000000</td>\n",
              "      <td>0.155936</td>\n",
              "      <td>52.000000</td>\n",
              "      <td>0.000000</td>\n",
              "      <td>0.366682</td>\n",
              "      <td>5.400000e+03</td>\n",
              "      <td>8.000000</td>\n",
              "      <td>0.000000</td>\n",
              "      <td>1.000000</td>\n",
              "      <td>0.000000</td>\n",
              "      <td>0.000000</td>\n",
              "    </tr>\n",
              "    <tr>\n",
              "      <th>75%</th>\n",
              "      <td>0.000000</td>\n",
              "      <td>0.562806</td>\n",
              "      <td>63.000000</td>\n",
              "      <td>0.000000</td>\n",
              "      <td>0.866874</td>\n",
              "      <td>8.225000e+03</td>\n",
              "      <td>11.000000</td>\n",
              "      <td>0.000000</td>\n",
              "      <td>2.000000</td>\n",
              "      <td>0.000000</td>\n",
              "      <td>1.000000</td>\n",
              "    </tr>\n",
              "    <tr>\n",
              "      <th>max</th>\n",
              "      <td>1.000000</td>\n",
              "      <td>50708.000000</td>\n",
              "      <td>109.000000</td>\n",
              "      <td>98.000000</td>\n",
              "      <td>329664.000000</td>\n",
              "      <td>3.008750e+06</td>\n",
              "      <td>58.000000</td>\n",
              "      <td>98.000000</td>\n",
              "      <td>54.000000</td>\n",
              "      <td>98.000000</td>\n",
              "      <td>20.000000</td>\n",
              "    </tr>\n",
              "  </tbody>\n",
              "</table>\n",
              "</div>"
            ],
            "text/plain": [
              "        inadimplente  ...  numero_de_dependentes\n",
              "count  110000.000000  ...          107122.000000\n",
              "mean        0.066645  ...               0.757482\n",
              "std         0.249408  ...               1.114670\n",
              "min         0.000000  ...               0.000000\n",
              "25%         0.000000  ...               0.000000\n",
              "50%         0.000000  ...               0.000000\n",
              "75%         0.000000  ...               1.000000\n",
              "max         1.000000  ...              20.000000\n",
              "\n",
              "[8 rows x 11 columns]"
            ]
          },
          "metadata": {},
          "execution_count": 5
        }
      ]
    },
    {
      "cell_type": "code",
      "metadata": {
        "colab": {
          "base_uri": "https://localhost:8080/"
        },
        "id": "S8XCdS4qSBdE",
        "outputId": "9441551a-a7ce-4689-a4e6-71c16cbf987e"
      },
      "source": [
        "df.isnull().sum().sort_values()/df.shape[0]"
      ],
      "execution_count": 6,
      "outputs": [
        {
          "output_type": "execute_result",
          "data": {
            "text/plain": [
              "inadimplente                             0.000000\n",
              "util_linhas_inseguras                    0.000000\n",
              "idade                                    0.000000\n",
              "vezes_passou_de_30_59_dias               0.000000\n",
              "razao_debito                             0.000000\n",
              "numero_linhas_crdto_aberto               0.000000\n",
              "numero_vezes_passou_90_dias              0.000000\n",
              "numero_emprestimos_imobiliarios          0.000000\n",
              "numero_de_vezes_que_passou_60_89_dias    0.000000\n",
              "numero_de_dependentes                    0.026164\n",
              "salario_mensal                           0.197845\n",
              "dtype: float64"
            ]
          },
          "metadata": {},
          "execution_count": 6
        }
      ]
    },
    {
      "cell_type": "code",
      "metadata": {
        "colab": {
          "base_uri": "https://localhost:8080/"
        },
        "id": "y3emqgB5SQcq",
        "outputId": "073802e6-754b-4232-cc67-dcd5d5391912"
      },
      "source": [
        "df.nunique().sort_values()"
      ],
      "execution_count": 7,
      "outputs": [
        {
          "output_type": "execute_result",
          "data": {
            "text/plain": [
              "inadimplente                                 2\n",
              "numero_de_dependentes                       12\n",
              "numero_de_vezes_que_passou_60_89_dias       13\n",
              "vezes_passou_de_30_59_dias                  15\n",
              "numero_vezes_passou_90_dias                 18\n",
              "numero_emprestimos_imobiliarios             28\n",
              "numero_linhas_crdto_aberto                  57\n",
              "idade                                       86\n",
              "salario_mensal                           12228\n",
              "razao_debito                             86002\n",
              "util_linhas_inseguras                    92671\n",
              "dtype: int64"
            ]
          },
          "metadata": {},
          "execution_count": 7
        }
      ]
    },
    {
      "cell_type": "code",
      "metadata": {
        "colab": {
          "base_uri": "https://localhost:8080/"
        },
        "id": "tILthpHKS0ud",
        "outputId": "48bb205d-e51b-4930-f86e-805a85787446"
      },
      "source": [
        "df = df.dropna(subset=['numero_de_dependentes'])\n",
        "df = df.dropna(subset=['salario_mensal'])\n",
        "df.isnull().sum().sort_values()/df.shape[0]"
      ],
      "execution_count": 8,
      "outputs": [
        {
          "output_type": "execute_result",
          "data": {
            "text/plain": [
              "inadimplente                             0.0\n",
              "util_linhas_inseguras                    0.0\n",
              "idade                                    0.0\n",
              "vezes_passou_de_30_59_dias               0.0\n",
              "razao_debito                             0.0\n",
              "salario_mensal                           0.0\n",
              "numero_linhas_crdto_aberto               0.0\n",
              "numero_vezes_passou_90_dias              0.0\n",
              "numero_emprestimos_imobiliarios          0.0\n",
              "numero_de_vezes_que_passou_60_89_dias    0.0\n",
              "numero_de_dependentes                    0.0\n",
              "dtype: float64"
            ]
          },
          "metadata": {},
          "execution_count": 8
        }
      ]
    },
    {
      "cell_type": "code",
      "metadata": {
        "colab": {
          "base_uri": "https://localhost:8080/",
          "height": 410
        },
        "id": "AcrI1WAhPQgb",
        "outputId": "a882f8ae-0223-4125-9a44-f9fb4f6687a8"
      },
      "source": [
        "df.corr()"
      ],
      "execution_count": 9,
      "outputs": [
        {
          "output_type": "execute_result",
          "data": {
            "text/html": [
              "<div>\n",
              "<style scoped>\n",
              "    .dataframe tbody tr th:only-of-type {\n",
              "        vertical-align: middle;\n",
              "    }\n",
              "\n",
              "    .dataframe tbody tr th {\n",
              "        vertical-align: top;\n",
              "    }\n",
              "\n",
              "    .dataframe thead th {\n",
              "        text-align: right;\n",
              "    }\n",
              "</style>\n",
              "<table border=\"1\" class=\"dataframe\">\n",
              "  <thead>\n",
              "    <tr style=\"text-align: right;\">\n",
              "      <th></th>\n",
              "      <th>inadimplente</th>\n",
              "      <th>util_linhas_inseguras</th>\n",
              "      <th>idade</th>\n",
              "      <th>vezes_passou_de_30_59_dias</th>\n",
              "      <th>razao_debito</th>\n",
              "      <th>salario_mensal</th>\n",
              "      <th>numero_linhas_crdto_aberto</th>\n",
              "      <th>numero_vezes_passou_90_dias</th>\n",
              "      <th>numero_emprestimos_imobiliarios</th>\n",
              "      <th>numero_de_vezes_que_passou_60_89_dias</th>\n",
              "      <th>numero_de_dependentes</th>\n",
              "    </tr>\n",
              "  </thead>\n",
              "  <tbody>\n",
              "    <tr>\n",
              "      <th>inadimplente</th>\n",
              "      <td>1.000000</td>\n",
              "      <td>-0.003313</td>\n",
              "      <td>-0.101614</td>\n",
              "      <td>0.120566</td>\n",
              "      <td>-0.003468</td>\n",
              "      <td>-0.020271</td>\n",
              "      <td>-0.028284</td>\n",
              "      <td>0.108678</td>\n",
              "      <td>-0.004796</td>\n",
              "      <td>0.092217</td>\n",
              "      <td>0.043802</td>\n",
              "    </tr>\n",
              "    <tr>\n",
              "      <th>util_linhas_inseguras</th>\n",
              "      <td>-0.003313</td>\n",
              "      <td>1.000000</td>\n",
              "      <td>-0.003648</td>\n",
              "      <td>-0.001312</td>\n",
              "      <td>0.000162</td>\n",
              "      <td>0.008203</td>\n",
              "      <td>-0.009369</td>\n",
              "      <td>-0.001133</td>\n",
              "      <td>0.007710</td>\n",
              "      <td>-0.001001</td>\n",
              "      <td>-0.001290</td>\n",
              "    </tr>\n",
              "    <tr>\n",
              "      <th>idade</th>\n",
              "      <td>-0.101614</td>\n",
              "      <td>-0.003648</td>\n",
              "      <td>1.000000</td>\n",
              "      <td>-0.049433</td>\n",
              "      <td>-0.000732</td>\n",
              "      <td>0.040922</td>\n",
              "      <td>0.188354</td>\n",
              "      <td>-0.048210</td>\n",
              "      <td>0.064601</td>\n",
              "      <td>-0.044073</td>\n",
              "      <td>-0.205649</td>\n",
              "    </tr>\n",
              "    <tr>\n",
              "      <th>vezes_passou_de_30_59_dias</th>\n",
              "      <td>0.120566</td>\n",
              "      <td>-0.001312</td>\n",
              "      <td>-0.049433</td>\n",
              "      <td>1.000000</td>\n",
              "      <td>-0.002528</td>\n",
              "      <td>-0.010939</td>\n",
              "      <td>-0.045994</td>\n",
              "      <td>0.976939</td>\n",
              "      <td>-0.025075</td>\n",
              "      <td>0.981316</td>\n",
              "      <td>0.002090</td>\n",
              "    </tr>\n",
              "    <tr>\n",
              "      <th>razao_debito</th>\n",
              "      <td>-0.003468</td>\n",
              "      <td>0.000162</td>\n",
              "      <td>-0.000732</td>\n",
              "      <td>-0.002528</td>\n",
              "      <td>1.000000</td>\n",
              "      <td>-0.033734</td>\n",
              "      <td>0.007319</td>\n",
              "      <td>-0.002824</td>\n",
              "      <td>0.020864</td>\n",
              "      <td>-0.002207</td>\n",
              "      <td>0.011803</td>\n",
              "    </tr>\n",
              "    <tr>\n",
              "      <th>salario_mensal</th>\n",
              "      <td>-0.020271</td>\n",
              "      <td>0.008203</td>\n",
              "      <td>0.040922</td>\n",
              "      <td>-0.010939</td>\n",
              "      <td>-0.033734</td>\n",
              "      <td>1.000000</td>\n",
              "      <td>0.096490</td>\n",
              "      <td>-0.013725</td>\n",
              "      <td>0.133508</td>\n",
              "      <td>-0.012404</td>\n",
              "      <td>0.066444</td>\n",
              "    </tr>\n",
              "    <tr>\n",
              "      <th>numero_linhas_crdto_aberto</th>\n",
              "      <td>-0.028284</td>\n",
              "      <td>-0.009369</td>\n",
              "      <td>0.188354</td>\n",
              "      <td>-0.045994</td>\n",
              "      <td>0.007319</td>\n",
              "      <td>0.096490</td>\n",
              "      <td>1.000000</td>\n",
              "      <td>-0.073729</td>\n",
              "      <td>0.425012</td>\n",
              "      <td>-0.063325</td>\n",
              "      <td>0.038209</td>\n",
              "    </tr>\n",
              "    <tr>\n",
              "      <th>numero_vezes_passou_90_dias</th>\n",
              "      <td>0.108678</td>\n",
              "      <td>-0.001133</td>\n",
              "      <td>-0.048210</td>\n",
              "      <td>0.976939</td>\n",
              "      <td>-0.002824</td>\n",
              "      <td>-0.013725</td>\n",
              "      <td>-0.073729</td>\n",
              "      <td>1.000000</td>\n",
              "      <td>-0.041585</td>\n",
              "      <td>0.990137</td>\n",
              "      <td>-0.005713</td>\n",
              "    </tr>\n",
              "    <tr>\n",
              "      <th>numero_emprestimos_imobiliarios</th>\n",
              "      <td>-0.004796</td>\n",
              "      <td>0.007710</td>\n",
              "      <td>0.064601</td>\n",
              "      <td>-0.025075</td>\n",
              "      <td>0.020864</td>\n",
              "      <td>0.133508</td>\n",
              "      <td>0.425012</td>\n",
              "      <td>-0.041585</td>\n",
              "      <td>1.000000</td>\n",
              "      <td>-0.034830</td>\n",
              "      <td>0.116759</td>\n",
              "    </tr>\n",
              "    <tr>\n",
              "      <th>numero_de_vezes_que_passou_60_89_dias</th>\n",
              "      <td>0.092217</td>\n",
              "      <td>-0.001001</td>\n",
              "      <td>-0.044073</td>\n",
              "      <td>0.981316</td>\n",
              "      <td>-0.002207</td>\n",
              "      <td>-0.012404</td>\n",
              "      <td>-0.063325</td>\n",
              "      <td>0.990137</td>\n",
              "      <td>-0.034830</td>\n",
              "      <td>1.000000</td>\n",
              "      <td>-0.006813</td>\n",
              "    </tr>\n",
              "    <tr>\n",
              "      <th>numero_de_dependentes</th>\n",
              "      <td>0.043802</td>\n",
              "      <td>-0.001290</td>\n",
              "      <td>-0.205649</td>\n",
              "      <td>0.002090</td>\n",
              "      <td>0.011803</td>\n",
              "      <td>0.066444</td>\n",
              "      <td>0.038209</td>\n",
              "      <td>-0.005713</td>\n",
              "      <td>0.116759</td>\n",
              "      <td>-0.006813</td>\n",
              "      <td>1.000000</td>\n",
              "    </tr>\n",
              "  </tbody>\n",
              "</table>\n",
              "</div>"
            ],
            "text/plain": [
              "                                       inadimplente  ...  numero_de_dependentes\n",
              "inadimplente                               1.000000  ...               0.043802\n",
              "util_linhas_inseguras                     -0.003313  ...              -0.001290\n",
              "idade                                     -0.101614  ...              -0.205649\n",
              "vezes_passou_de_30_59_dias                 0.120566  ...               0.002090\n",
              "razao_debito                              -0.003468  ...               0.011803\n",
              "salario_mensal                            -0.020271  ...               0.066444\n",
              "numero_linhas_crdto_aberto                -0.028284  ...               0.038209\n",
              "numero_vezes_passou_90_dias                0.108678  ...              -0.005713\n",
              "numero_emprestimos_imobiliarios           -0.004796  ...               0.116759\n",
              "numero_de_vezes_que_passou_60_89_dias      0.092217  ...              -0.006813\n",
              "numero_de_dependentes                      0.043802  ...               1.000000\n",
              "\n",
              "[11 rows x 11 columns]"
            ]
          },
          "metadata": {},
          "execution_count": 9
        }
      ]
    },
    {
      "cell_type": "code",
      "metadata": {
        "colab": {
          "base_uri": "https://localhost:8080/",
          "height": 759
        },
        "id": "oYTaGaWsRYiE",
        "outputId": "024d8d46-3a61-46d7-cc50-00d833210099"
      },
      "source": [
        "corr = df.corr()\n",
        "\n",
        "# Generate a mask for the upper triangle\n",
        "mask = np.triu(np.ones_like(corr, dtype=bool))\n",
        "\n",
        "# Set up the matplotlib figure\n",
        "f, ax = plt.subplots(figsize=(11, 9))\n",
        "\n",
        "# Generate a custom diverging colormap\n",
        "cmap = sns.diverging_palette(230, 20, as_cmap=True)\n",
        "\n",
        "# Draw the heatmap with the mask and correct aspect ratio\n",
        "sns.heatmap(corr, mask=mask, cmap=cmap, vmax=1, center=0,\n",
        "            square=True, linewidths=.5, cbar_kws={\"shrink\": .5})"
      ],
      "execution_count": 10,
      "outputs": [
        {
          "output_type": "execute_result",
          "data": {
            "text/plain": [
              "<matplotlib.axes._subplots.AxesSubplot at 0x7fa535497b10>"
            ]
          },
          "metadata": {},
          "execution_count": 10
        },
        {
          "output_type": "display_data",
          "data": {
            "image/png": "[encoded data removed]",
            "text/plain": [
              "<Figure size 792x648 with 2 Axes>"
            ]
          },
          "metadata": {
            "needs_background": "light"
          }
        }
      ]
    },
    {
      "cell_type": "code",
      "metadata": {
        "colab": {
          "base_uri": "https://localhost:8080/"
        },
        "id": "mjM40H-ked4y",
        "outputId": "5e2109aa-a3ce-4da3-c238-9d01345ac5cf"
      },
      "source": [
        "df.columns"
      ],
      "execution_count": 11,
      "outputs": [
        {
          "output_type": "execute_result",
          "data": {
            "text/plain": [
              "Index(['inadimplente', 'util_linhas_inseguras', 'idade',\n",
              "       'vezes_passou_de_30_59_dias', 'razao_debito', 'salario_mensal',\n",
              "       'numero_linhas_crdto_aberto', 'numero_vezes_passou_90_dias',\n",
              "       'numero_emprestimos_imobiliarios',\n",
              "       'numero_de_vezes_que_passou_60_89_dias', 'numero_de_dependentes'],\n",
              "      dtype='object')"
            ]
          },
          "metadata": {},
          "execution_count": 11
        }
      ]
    },
    {
      "cell_type": "code",
      "metadata": {
        "colab": {
          "base_uri": "https://localhost:8080/",
          "height": 350
        },
        "id": "kPhXCE_BRjCs",
        "outputId": "6102a049-3053-4bae-b77d-a16383fcfdee"
      },
      "source": [
        "plt.hist(df['idade'])"
      ],
      "execution_count": 12,
      "outputs": [
        {
          "output_type": "execute_result",
          "data": {
            "text/plain": [
              "(array([1.0000e+00, 0.0000e+00, 6.6840e+03, 1.7416e+04, 2.1896e+04,\n",
              "        2.0321e+04, 1.4784e+04, 5.6070e+03, 1.4400e+03, 8.8000e+01]),\n",
              " array([  0. ,  10.3,  20.6,  30.9,  41.2,  51.5,  61.8,  72.1,  82.4,\n",
              "         92.7, 103. ]),\n",
              " <a list of 10 Patch objects>)"
            ]
          },
          "metadata": {},
          "execution_count": 12
        },
        {
          "output_type": "display_data",
          "data": {
            "image/png": "[encoded data removed]",
            "text/plain": [
              "<Figure size 432x288 with 1 Axes>"
            ]
          },
          "metadata": {
            "needs_background": "light"
          }
        }
      ]
    },
    {
      "cell_type": "code",
      "metadata": {
        "id": "3lD9CVklR9PU"
      },
      "source": [
        ""
      ],
      "execution_count": 12,
      "outputs": []
    },
    {
      "cell_type": "code",
      "metadata": {
        "id": "SBAt07QMen2a"
      },
      "source": [
        "\n",
        "from sklearn.preprocessing import StandardScaler\n",
        "from sklearn.model_selection import train_test_split"
      ],
      "execution_count": 13,
      "outputs": []
    },
    {
      "cell_type": "code",
      "metadata": {
        "id": "la_MLsr6nl9I"
      },
      "source": [
        "X = df.iloc[:,1:]\n",
        "y = df.iloc[:,[0]]"
      ],
      "execution_count": 14,
      "outputs": []
    },
    {
      "cell_type": "code",
      "metadata": {
        "id": "HHvoVGOlsoRx"
      },
      "source": [
        "X_train, X_test, y_train, y_test = train_test_split(X, y, test_size=0.33, random_state=7, stratify=y)\n",
        "\n",
        "scaler = StandardScaler()\n",
        "scaler.fit(X_train)\n",
        "X_train_unb = scaler.transform(X_train)\n",
        "X_test = scaler.transform(X_test)"
      ],
      "execution_count": 15,
      "outputs": []
    },
    {
      "cell_type": "code",
      "metadata": {
        "id": "3PdC1qoWzHWc"
      },
      "source": [
        "scaler_r = StandardScaler()\n",
        "scaler_r.fit(X)\n",
        "X_r = scaler_r.transform(X)"
      ],
      "execution_count": 16,
      "outputs": []
    },
    {
      "cell_type": "code",
      "metadata": {
        "id": "C5IvSNtosbMH"
      },
      "source": [
        "from sklearn import model_selection\n",
        "from sklearn.linear_model import LogisticRegression\n",
        "from sklearn.tree import DecisionTreeClassifier\n",
        "from sklearn.neighbors import KNeighborsClassifier\n",
        "from sklearn.discriminant_analysis import LinearDiscriminantAnalysis\n",
        "from sklearn.naive_bayes import GaussianNB\n",
        "from sklearn.svm import SVC\n",
        "from sklearn.ensemble import RandomForestClassifier"
      ],
      "execution_count": 17,
      "outputs": []
    },
    {
      "cell_type": "code",
      "metadata": {
        "id": "Y75P7fjrw-6C"
      },
      "source": [
        "# prepare models\n",
        "models = []\n",
        "models.append(('LR', LogisticRegression()))\n",
        "models.append(('LDA', LinearDiscriminantAnalysis()))\n",
        "models.append(('KNN', KNeighborsClassifier()))\n",
        "models.append(('DecTree', DecisionTreeClassifier()))\n",
        "models.append(('NB', GaussianNB()))\n",
        "#models.append(('SVM', SVC()))\n",
        "models.append(('RndForest', RandomForestClassifier())) "
      ],
      "execution_count": 18,
      "outputs": []
    },
    {
      "cell_type": "code",
      "metadata": {
        "colab": {
          "base_uri": "https://localhost:8080/",
          "height": 1000
        },
        "id": "c1WfGog1wzVn",
        "outputId": "40395173-197e-4bb2-c0fd-27b41fec7a64"
      },
      "source": [
        "# evaluate each model in turn\n",
        "results = []\n",
        "names = []\n",
        "scoring = 'accuracy'\n",
        "for name, model in models:\n",
        "\tkfold = model_selection.KFold(n_splits=10, random_state=7)\n",
        "\tcv_results = model_selection.cross_val_score(model, X_r, y, cv=kfold, scoring=scoring)\n",
        "\tresults.append(cv_results)\n",
        "\tnames.append(name)\n",
        "\tmsg = \"%s: %f (%f)\" % (name, cv_results.mean(), cv_results.std())\n",
        "\tprint(msg)\n",
        "# boxplot algorithm comparison\n",
        "fig = plt.figure()\n",
        "fig.suptitle('Algorithm Comparison')\n",
        "ax = fig.add_subplot(111)\n",
        "plt.boxplot(results)\n",
        "ax.set_xticklabels(names)\n",
        "plt.show()"
      ],
      "execution_count": 19,
      "outputs": [
        {
          "output_type": "stream",
          "name": "stderr",
          "text": [
            "/usr/local/lib/python3.7/dist-packages/sklearn/model_selection/_split.py:296: FutureWarning: Setting a random_state has no effect since shuffle is False. This will raise an error in 0.24. You should leave random_state to its default (None), or set shuffle=True.\n",
            "  FutureWarning\n",
            "/usr/local/lib/python3.7/dist-packages/sklearn/utils/validation.py:760: DataConversionWarning: A column-vector y was passed when a 1d array was expected. Please change the shape of y to (n_samples, ), for example using ravel().\n",
            "  y = column_or_1d(y, warn=True)\n",
            "/usr/local/lib/python3.7/dist-packages/sklearn/utils/validation.py:760: DataConversionWarning: A column-vector y was passed when a 1d array was expected. Please change the shape of y to (n_samples, ), for example using ravel().\n",
            "  y = column_or_1d(y, warn=True)\n",
            "/usr/local/lib/python3.7/dist-packages/sklearn/utils/validation.py:760: DataConversionWarning: A column-vector y was passed when a 1d array was expected. Please change the shape of y to (n_samples, ), for example using ravel().\n",
            "  y = column_or_1d(y, warn=True)\n",
            "/usr/local/lib/python3.7/dist-packages/sklearn/utils/validation.py:760: DataConversionWarning: A column-vector y was passed when a 1d array was expected. Please change the shape of y to (n_samples, ), for example using ravel().\n",
            "  y = column_or_1d(y, warn=True)\n",
            "/usr/local/lib/python3.7/dist-packages/sklearn/utils/validation.py:760: DataConversionWarning: A column-vector y was passed when a 1d array was expected. Please change the shape of y to (n_samples, ), for example using ravel().\n",
            "  y = column_or_1d(y, warn=True)\n",
            "/usr/local/lib/python3.7/dist-packages/sklearn/utils/validation.py:760: DataConversionWarning: A column-vector y was passed when a 1d array was expected. Please change the shape of y to (n_samples, ), for example using ravel().\n",
            "  y = column_or_1d(y, warn=True)\n",
            "/usr/local/lib/python3.7/dist-packages/sklearn/utils/validation.py:760: DataConversionWarning: A column-vector y was passed when a 1d array was expected. Please change the shape of y to (n_samples, ), for example using ravel().\n",
            "  y = column_or_1d(y, warn=True)\n",
            "/usr/local/lib/python3.7/dist-packages/sklearn/utils/validation.py:760: DataConversionWarning: A column-vector y was passed when a 1d array was expected. Please change the shape of y to (n_samples, ), for example using ravel().\n",
            "  y = column_or_1d(y, warn=True)\n",
            "/usr/local/lib/python3.7/dist-packages/sklearn/utils/validation.py:760: DataConversionWarning: A column-vector y was passed when a 1d array was expected. Please change the shape of y to (n_samples, ), for example using ravel().\n",
            "  y = column_or_1d(y, warn=True)\n",
            "/usr/local/lib/python3.7/dist-packages/sklearn/utils/validation.py:760: DataConversionWarning: A column-vector y was passed when a 1d array was expected. Please change the shape of y to (n_samples, ), for example using ravel().\n",
            "  y = column_or_1d(y, warn=True)\n"
          ]
        },
        {
          "output_type": "stream",
          "name": "stdout",
          "text": [
            "LR: 0.931752 (0.003206)\n"
          ]
        },
        {
          "output_type": "stream",
          "name": "stderr",
          "text": [
            "/usr/local/lib/python3.7/dist-packages/sklearn/model_selection/_split.py:296: FutureWarning: Setting a random_state has no effect since shuffle is False. This will raise an error in 0.24. You should leave random_state to its default (None), or set shuffle=True.\n",
            "  FutureWarning\n",
            "/usr/local/lib/python3.7/dist-packages/sklearn/utils/validation.py:760: DataConversionWarning: A column-vector y was passed when a 1d array was expected. Please change the shape of y to (n_samples, ), for example using ravel().\n",
            "  y = column_or_1d(y, warn=True)\n",
            "/usr/local/lib/python3.7/dist-packages/sklearn/utils/validation.py:760: DataConversionWarning: A column-vector y was passed when a 1d array was expected. Please change the shape of y to (n_samples, ), for example using ravel().\n",
            "  y = column_or_1d(y, warn=True)\n",
            "/usr/local/lib/python3.7/dist-packages/sklearn/utils/validation.py:760: DataConversionWarning: A column-vector y was passed when a 1d array was expected. Please change the shape of y to (n_samples, ), for example using ravel().\n",
            "  y = column_or_1d(y, warn=True)\n",
            "/usr/local/lib/python3.7/dist-packages/sklearn/utils/validation.py:760: DataConversionWarning: A column-vector y was passed when a 1d array was expected. Please change the shape of y to (n_samples, ), for example using ravel().\n",
            "  y = column_or_1d(y, warn=True)\n",
            "/usr/local/lib/python3.7/dist-packages/sklearn/utils/validation.py:760: DataConversionWarning: A column-vector y was passed when a 1d array was expected. Please change the shape of y to (n_samples, ), for example using ravel().\n",
            "  y = column_or_1d(y, warn=True)\n",
            "/usr/local/lib/python3.7/dist-packages/sklearn/utils/validation.py:760: DataConversionWarning: A column-vector y was passed when a 1d array was expected. Please change the shape of y to (n_samples, ), for example using ravel().\n",
            "  y = column_or_1d(y, warn=True)\n",
            "/usr/local/lib/python3.7/dist-packages/sklearn/utils/validation.py:760: DataConversionWarning: A column-vector y was passed when a 1d array was expected. Please change the shape of y to (n_samples, ), for example using ravel().\n",
            "  y = column_or_1d(y, warn=True)\n",
            "/usr/local/lib/python3.7/dist-packages/sklearn/utils/validation.py:760: DataConversionWarning: A column-vector y was passed when a 1d array was expected. Please change the shape of y to (n_samples, ), for example using ravel().\n",
            "  y = column_or_1d(y, warn=True)\n",
            "/usr/local/lib/python3.7/dist-packages/sklearn/utils/validation.py:760: DataConversionWarning: A column-vector y was passed when a 1d array was expected. Please change the shape of y to (n_samples, ), for example using ravel().\n",
            "  y = column_or_1d(y, warn=True)\n",
            "/usr/local/lib/python3.7/dist-packages/sklearn/utils/validation.py:760: DataConversionWarning: A column-vector y was passed when a 1d array was expected. Please change the shape of y to (n_samples, ), for example using ravel().\n",
            "  y = column_or_1d(y, warn=True)\n",
            "/usr/local/lib/python3.7/dist-packages/sklearn/model_selection/_split.py:296: FutureWarning: Setting a random_state has no effect since shuffle is False. This will raise an error in 0.24. You should leave random_state to its default (None), or set shuffle=True.\n",
            "  FutureWarning\n",
            "/usr/local/lib/python3.7/dist-packages/sklearn/model_selection/_validation.py:515: DataConversionWarning: A column-vector y was passed when a 1d array was expected. Please change the shape of y to (n_samples, ), for example using ravel().\n",
            "  estimator.fit(X_train, y_train, **fit_params)\n"
          ]
        },
        {
          "output_type": "stream",
          "name": "stdout",
          "text": [
            "LDA: 0.931378 (0.002885)\n"
          ]
        },
        {
          "output_type": "stream",
          "name": "stderr",
          "text": [
            "/usr/local/lib/python3.7/dist-packages/sklearn/model_selection/_validation.py:515: DataConversionWarning: A column-vector y was passed when a 1d array was expected. Please change the shape of y to (n_samples, ), for example using ravel().\n",
            "  estimator.fit(X_train, y_train, **fit_params)\n",
            "/usr/local/lib/python3.7/dist-packages/sklearn/model_selection/_validation.py:515: DataConversionWarning: A column-vector y was passed when a 1d array was expected. Please change the shape of y to (n_samples, ), for example using ravel().\n",
            "  estimator.fit(X_train, y_train, **fit_params)\n",
            "/usr/local/lib/python3.7/dist-packages/sklearn/model_selection/_validation.py:515: DataConversionWarning: A column-vector y was passed when a 1d array was expected. Please change the shape of y to (n_samples, ), for example using ravel().\n",
            "  estimator.fit(X_train, y_train, **fit_params)\n",
            "/usr/local/lib/python3.7/dist-packages/sklearn/model_selection/_validation.py:515: DataConversionWarning: A column-vector y was passed when a 1d array was expected. Please change the shape of y to (n_samples, ), for example using ravel().\n",
            "  estimator.fit(X_train, y_train, **fit_params)\n",
            "/usr/local/lib/python3.7/dist-packages/sklearn/model_selection/_validation.py:515: DataConversionWarning: A column-vector y was passed when a 1d array was expected. Please change the shape of y to (n_samples, ), for example using ravel().\n",
            "  estimator.fit(X_train, y_train, **fit_params)\n",
            "/usr/local/lib/python3.7/dist-packages/sklearn/model_selection/_validation.py:515: DataConversionWarning: A column-vector y was passed when a 1d array was expected. Please change the shape of y to (n_samples, ), for example using ravel().\n",
            "  estimator.fit(X_train, y_train, **fit_params)\n",
            "/usr/local/lib/python3.7/dist-packages/sklearn/model_selection/_validation.py:515: DataConversionWarning: A column-vector y was passed when a 1d array was expected. Please change the shape of y to (n_samples, ), for example using ravel().\n",
            "  estimator.fit(X_train, y_train, **fit_params)\n",
            "/usr/local/lib/python3.7/dist-packages/sklearn/model_selection/_validation.py:515: DataConversionWarning: A column-vector y was passed when a 1d array was expected. Please change the shape of y to (n_samples, ), for example using ravel().\n",
            "  estimator.fit(X_train, y_train, **fit_params)\n",
            "/usr/local/lib/python3.7/dist-packages/sklearn/model_selection/_validation.py:515: DataConversionWarning: A column-vector y was passed when a 1d array was expected. Please change the shape of y to (n_samples, ), for example using ravel().\n",
            "  estimator.fit(X_train, y_train, **fit_params)\n"
          ]
        },
        {
          "output_type": "stream",
          "name": "stdout",
          "text": [
            "KNN: 0.930562 (0.003366)\n"
          ]
        },
        {
          "output_type": "stream",
          "name": "stderr",
          "text": [
            "/usr/local/lib/python3.7/dist-packages/sklearn/model_selection/_split.py:296: FutureWarning: Setting a random_state has no effect since shuffle is False. This will raise an error in 0.24. You should leave random_state to its default (None), or set shuffle=True.\n",
            "  FutureWarning\n"
          ]
        },
        {
          "output_type": "stream",
          "name": "stdout",
          "text": [
            "DecTree: 0.894205 (0.004821)\n"
          ]
        },
        {
          "output_type": "stream",
          "name": "stderr",
          "text": [
            "/usr/local/lib/python3.7/dist-packages/sklearn/model_selection/_split.py:296: FutureWarning: Setting a random_state has no effect since shuffle is False. This will raise an error in 0.24. You should leave random_state to its default (None), or set shuffle=True.\n",
            "  FutureWarning\n",
            "/usr/local/lib/python3.7/dist-packages/sklearn/naive_bayes.py:206: DataConversionWarning: A column-vector y was passed when a 1d array was expected. Please change the shape of y to (n_samples, ), for example using ravel().\n",
            "  y = column_or_1d(y, warn=True)\n",
            "/usr/local/lib/python3.7/dist-packages/sklearn/naive_bayes.py:206: DataConversionWarning: A column-vector y was passed when a 1d array was expected. Please change the shape of y to (n_samples, ), for example using ravel().\n",
            "  y = column_or_1d(y, warn=True)\n",
            "/usr/local/lib/python3.7/dist-packages/sklearn/naive_bayes.py:206: DataConversionWarning: A column-vector y was passed when a 1d array was expected. Please change the shape of y to (n_samples, ), for example using ravel().\n",
            "  y = column_or_1d(y, warn=True)\n",
            "/usr/local/lib/python3.7/dist-packages/sklearn/naive_bayes.py:206: DataConversionWarning: A column-vector y was passed when a 1d array was expected. Please change the shape of y to (n_samples, ), for example using ravel().\n",
            "  y = column_or_1d(y, warn=True)\n",
            "/usr/local/lib/python3.7/dist-packages/sklearn/naive_bayes.py:206: DataConversionWarning: A column-vector y was passed when a 1d array was expected. Please change the shape of y to (n_samples, ), for example using ravel().\n",
            "  y = column_or_1d(y, warn=True)\n",
            "/usr/local/lib/python3.7/dist-packages/sklearn/naive_bayes.py:206: DataConversionWarning: A column-vector y was passed when a 1d array was expected. Please change the shape of y to (n_samples, ), for example using ravel().\n",
            "  y = column_or_1d(y, warn=True)\n",
            "/usr/local/lib/python3.7/dist-packages/sklearn/naive_bayes.py:206: DataConversionWarning: A column-vector y was passed when a 1d array was expected. Please change the shape of y to (n_samples, ), for example using ravel().\n",
            "  y = column_or_1d(y, warn=True)\n",
            "/usr/local/lib/python3.7/dist-packages/sklearn/naive_bayes.py:206: DataConversionWarning: A column-vector y was passed when a 1d array was expected. Please change the shape of y to (n_samples, ), for example using ravel().\n",
            "  y = column_or_1d(y, warn=True)\n",
            "/usr/local/lib/python3.7/dist-packages/sklearn/naive_bayes.py:206: DataConversionWarning: A column-vector y was passed when a 1d array was expected. Please change the shape of y to (n_samples, ), for example using ravel().\n",
            "  y = column_or_1d(y, warn=True)\n",
            "/usr/local/lib/python3.7/dist-packages/sklearn/naive_bayes.py:206: DataConversionWarning: A column-vector y was passed when a 1d array was expected. Please change the shape of y to (n_samples, ), for example using ravel().\n",
            "  y = column_or_1d(y, warn=True)\n",
            "/usr/local/lib/python3.7/dist-packages/sklearn/model_selection/_split.py:296: FutureWarning: Setting a random_state has no effect since shuffle is False. This will raise an error in 0.24. You should leave random_state to its default (None), or set shuffle=True.\n",
            "  FutureWarning\n",
            "/usr/local/lib/python3.7/dist-packages/sklearn/model_selection/_validation.py:515: DataConversionWarning: A column-vector y was passed when a 1d array was expected. Please change the shape of y to (n_samples,), for example using ravel().\n",
            "  estimator.fit(X_train, y_train, **fit_params)\n"
          ]
        },
        {
          "output_type": "stream",
          "name": "stdout",
          "text": [
            "NB: 0.928307 (0.003298)\n"
          ]
        },
        {
          "output_type": "stream",
          "name": "stderr",
          "text": [
            "/usr/local/lib/python3.7/dist-packages/sklearn/model_selection/_validation.py:515: DataConversionWarning: A column-vector y was passed when a 1d array was expected. Please change the shape of y to (n_samples,), for example using ravel().\n",
            "  estimator.fit(X_train, y_train, **fit_params)\n",
            "/usr/local/lib/python3.7/dist-packages/sklearn/model_selection/_validation.py:515: DataConversionWarning: A column-vector y was passed when a 1d array was expected. Please change the shape of y to (n_samples,), for example using ravel().\n",
            "  estimator.fit(X_train, y_train, **fit_params)\n",
            "/usr/local/lib/python3.7/dist-packages/sklearn/model_selection/_validation.py:515: DataConversionWarning: A column-vector y was passed when a 1d array was expected. Please change the shape of y to (n_samples,), for example using ravel().\n",
            "  estimator.fit(X_train, y_train, **fit_params)\n",
            "/usr/local/lib/python3.7/dist-packages/sklearn/model_selection/_validation.py:515: DataConversionWarning: A column-vector y was passed when a 1d array was expected. Please change the shape of y to (n_samples,), for example using ravel().\n",
            "  estimator.fit(X_train, y_train, **fit_params)\n",
            "/usr/local/lib/python3.7/dist-packages/sklearn/model_selection/_validation.py:515: DataConversionWarning: A column-vector y was passed when a 1d array was expected. Please change the shape of y to (n_samples,), for example using ravel().\n",
            "  estimator.fit(X_train, y_train, **fit_params)\n",
            "/usr/local/lib/python3.7/dist-packages/sklearn/model_selection/_validation.py:515: DataConversionWarning: A column-vector y was passed when a 1d array was expected. Please change the shape of y to (n_samples,), for example using ravel().\n",
            "  estimator.fit(X_train, y_train, **fit_params)\n",
            "/usr/local/lib/python3.7/dist-packages/sklearn/model_selection/_validation.py:515: DataConversionWarning: A column-vector y was passed when a 1d array was expected. Please change the shape of y to (n_samples,), for example using ravel().\n",
            "  estimator.fit(X_train, y_train, **fit_params)\n",
            "/usr/local/lib/python3.7/dist-packages/sklearn/model_selection/_validation.py:515: DataConversionWarning: A column-vector y was passed when a 1d array was expected. Please change the shape of y to (n_samples,), for example using ravel().\n",
            "  estimator.fit(X_train, y_train, **fit_params)\n",
            "/usr/local/lib/python3.7/dist-packages/sklearn/model_selection/_validation.py:515: DataConversionWarning: A column-vector y was passed when a 1d array was expected. Please change the shape of y to (n_samples,), for example using ravel().\n",
            "  estimator.fit(X_train, y_train, **fit_params)\n"
          ]
        },
        {
          "output_type": "stream",
          "name": "stdout",
          "text": [
            "RndForest: 0.933293 (0.002626)\n"
          ]
        },
        {
          "output_type": "display_data",
          "data": {
            "image/png": "[encoded data removed]",
            "text/plain": [
              "<Figure size 432x288 with 1 Axes>"
            ]
          },
          "metadata": {
            "needs_background": "light"
          }
        }
      ]
    },
    {
      "cell_type": "code",
      "metadata": {
        "colab": {
          "base_uri": "https://localhost:8080/"
        },
        "id": "R9UEJ25ew8j3",
        "outputId": "85eaaaa3-3f60-46ba-86f4-7416874c88e5"
      },
      "source": [
        "results"
      ],
      "execution_count": 20,
      "outputs": [
        {
          "output_type": "execute_result",
          "data": {
            "text/plain": [
              "[array([0.93359021, 0.93540345, 0.9318903 , 0.92543064, 0.93075703,\n",
              "        0.92860381, 0.93347688, 0.93675621, 0.92916242, 0.93244928]),\n",
              " array([0.93325023, 0.93415684, 0.93200363, 0.92622393, 0.92996374,\n",
              "        0.92871714, 0.93268359, 0.93664287, 0.9288224 , 0.93131588]),\n",
              " array([0.92871714, 0.93495014, 0.93381686, 0.9256573 , 0.9281505 ,\n",
              "        0.92679057, 0.93347688, 0.93539612, 0.92859572, 0.93006914]),\n",
              " array([0.88859927, 0.8974388 , 0.89426564, 0.89029918, 0.8961922 ,\n",
              "        0.88678604, 0.90004533, 0.90298085, 0.89210019, 0.89334693]),\n",
              " array([0.9306437 , 0.92962375, 0.92951043, 0.92327743, 0.92373073,\n",
              "        0.92577063, 0.93234361, 0.933356  , 0.92598889, 0.9288224 ]),\n",
              " array([0.93177697, 0.93766999, 0.93495014, 0.92837715, 0.93359021,\n",
              "        0.93098368, 0.93427017, 0.93675621, 0.93199592, 0.93256262])]"
            ]
          },
          "metadata": {},
          "execution_count": 20
        }
      ]
    },
    {
      "cell_type": "code",
      "metadata": {
        "colab": {
          "base_uri": "https://localhost:8080/"
        },
        "id": "c3OMvEvqMG2X",
        "outputId": "2db74733-2768-466f-dec5-2492b498315e"
      },
      "source": [
        "a=0\n",
        "for i in results:\n",
        "  \n",
        "  print(models[a])\n",
        "  print(i.mean())\n",
        "  print(i.std())\n",
        "  a = a+1\n",
        "  print(\" \")"
      ],
      "execution_count": 21,
      "outputs": [
        {
          "output_type": "stream",
          "name": "stdout",
          "text": [
            "('LR', LogisticRegression(C=1.0, class_weight=None, dual=False, fit_intercept=True,\n",
            "                   intercept_scaling=1, l1_ratio=None, max_iter=100,\n",
            "                   multi_class='auto', n_jobs=None, penalty='l2',\n",
            "                   random_state=None, solver='lbfgs', tol=0.0001, verbose=0,\n",
            "                   warm_start=False))\n",
            "0.9317520213950825\n",
            "0.0032062634149928053\n",
            " \n",
            "('LDA', LinearDiscriminantAnalysis(n_components=None, priors=None, shrinkage=None,\n",
            "                           solver='svd', store_covariance=False, tol=0.0001))\n",
            "0.9313780233583431\n",
            "0.002884817129899566\n",
            " \n",
            "('KNN', KNeighborsClassifier(algorithm='auto', leaf_size=30, metric='minkowski',\n",
            "                     metric_params=None, n_jobs=None, n_neighbors=5, p=2,\n",
            "                     weights='uniform'))\n",
            "0.9305620360491501\n",
            "0.0033663479246010134\n",
            " \n",
            "('DecTree', DecisionTreeClassifier(ccp_alpha=0.0, class_weight=None, criterion='gini',\n",
            "                       max_depth=None, max_features=None, max_leaf_nodes=None,\n",
            "                       min_impurity_decrease=0.0, min_impurity_split=None,\n",
            "                       min_samples_leaf=1, min_samples_split=2,\n",
            "                       min_weight_fraction_leaf=0.0, presort='deprecated',\n",
            "                       random_state=None, splitter='best'))\n",
            "0.8942054445599767\n",
            "0.004821017587124129\n",
            " \n",
            "('NB', GaussianNB(priors=None, var_smoothing=1e-09))\n",
            "0.9283067562022895\n",
            "0.003297576942800062\n",
            " \n",
            "('RndForest', RandomForestClassifier(bootstrap=True, ccp_alpha=0.0, class_weight=None,\n",
            "                       criterion='gini', max_depth=None, max_features='auto',\n",
            "                       max_leaf_nodes=None, max_samples=None,\n",
            "                       min_impurity_decrease=0.0, min_impurity_split=None,\n",
            "                       min_samples_leaf=1, min_samples_split=2,\n",
            "                       min_weight_fraction_leaf=0.0, n_estimators=100,\n",
            "                       n_jobs=None, oob_score=False, random_state=None,\n",
            "                       verbose=0, warm_start=False))\n",
            "0.9332933059241336\n",
            "0.002625906614842735\n",
            " \n"
          ]
        }
      ]
    },
    {
      "cell_type": "code",
      "metadata": {
        "id": "GOkg_v3m22SO"
      },
      "source": [
        ""
      ],
      "execution_count": 21,
      "outputs": []
    },
    {
      "cell_type": "markdown",
      "metadata": {
        "id": "01uWJ-Lm23XD"
      },
      "source": [
        "## Testar Random Forest"
      ]
    },
    {
      "cell_type": "code",
      "metadata": {
        "id": "AGBNIGGT1GT0"
      },
      "source": [
        "clf = RandomForestClassifier(n_estimators=1000)"
      ],
      "execution_count": 22,
      "outputs": []
    },
    {
      "cell_type": "code",
      "metadata": {
        "id": "OQ1Adio_1GcK",
        "colab": {
          "base_uri": "https://localhost:8080/"
        },
        "outputId": "cad51b65-d553-49a4-fcca-249b46170d06"
      },
      "source": [
        "clf.fit(X_train_unb,y_train)"
      ],
      "execution_count": 23,
      "outputs": [
        {
          "output_type": "stream",
          "name": "stderr",
          "text": [
            "/usr/local/lib/python3.7/dist-packages/ipykernel_launcher.py:1: DataConversionWarning: A column-vector y was passed when a 1d array was expected. Please change the shape of y to (n_samples,), for example using ravel().\n",
            "  \"\"\"Entry point for launching an IPython kernel.\n"
          ]
        },
        {
          "output_type": "execute_result",
          "data": {
            "text/plain": [
              "RandomForestClassifier(bootstrap=True, ccp_alpha=0.0, class_weight=None,\n",
              "                       criterion='gini', max_depth=None, max_features='auto',\n",
              "                       max_leaf_nodes=None, max_samples=None,\n",
              "                       min_impurity_decrease=0.0, min_impurity_split=None,\n",
              "                       min_samples_leaf=1, min_samples_split=2,\n",
              "                       min_weight_fraction_leaf=0.0, n_estimators=1000,\n",
              "                       n_jobs=None, oob_score=False, random_state=None,\n",
              "                       verbose=0, warm_start=False)"
            ]
          },
          "metadata": {},
          "execution_count": 23
        }
      ]
    },
    {
      "cell_type": "code",
      "metadata": {
        "id": "t3se6_F51GfS"
      },
      "source": [
        "pred = clf.predict(X_test)"
      ],
      "execution_count": 24,
      "outputs": []
    },
    {
      "cell_type": "code",
      "metadata": {
        "id": "amD4kCQ61Gh6"
      },
      "source": [
        "from sklearn.metrics import confusion_matrix, accuracy_score, classification_report, roc_auc_score, roc_curve, auc"
      ],
      "execution_count": 25,
      "outputs": []
    },
    {
      "cell_type": "code",
      "metadata": {
        "id": "9M2LyIWJ1Gkm",
        "colab": {
          "base_uri": "https://localhost:8080/"
        },
        "outputId": "d82ee326-9ef6-4a4b-82e0-4ad9c3066a64"
      },
      "source": [
        "print(accuracy_score(pred,y_test))"
      ],
      "execution_count": 26,
      "outputs": [
        {
          "output_type": "stream",
          "name": "stdout",
          "text": [
            "0.9339949860915553\n"
          ]
        }
      ]
    },
    {
      "cell_type": "code",
      "metadata": {
        "id": "Juh-Dkg41Gny",
        "colab": {
          "base_uri": "https://localhost:8080/"
        },
        "outputId": "5b261192-c798-4038-882a-cd6bb83d2433"
      },
      "source": [
        "confusion_matrix=confusion_matrix(y_test,pred)\n",
        "confusion_matrix"
      ],
      "execution_count": 27,
      "outputs": [
        {
          "output_type": "execute_result",
          "data": {
            "text/plain": [
              "array([[26821,   290],\n",
              "       [ 1632,   376]])"
            ]
          },
          "metadata": {},
          "execution_count": 27
        }
      ]
    },
    {
      "cell_type": "code",
      "metadata": {
        "id": "XdTMfOkW1GqQ",
        "colab": {
          "base_uri": "https://localhost:8080/"
        },
        "outputId": "5e81b916-38cd-43fc-a076-76cd33aa4b28"
      },
      "source": [
        "auc_roc=classification_report(y_test,pred)\n",
        "print(auc_roc)"
      ],
      "execution_count": 28,
      "outputs": [
        {
          "output_type": "stream",
          "name": "stdout",
          "text": [
            "              precision    recall  f1-score   support\n",
            "\n",
            "           0       0.94      0.99      0.97     27111\n",
            "           1       0.56      0.19      0.28      2008\n",
            "\n",
            "    accuracy                           0.93     29119\n",
            "   macro avg       0.75      0.59      0.62     29119\n",
            "weighted avg       0.92      0.93      0.92     29119\n",
            "\n"
          ]
        }
      ]
    },
    {
      "cell_type": "code",
      "metadata": {
        "id": "wfAexmMn1Gsc",
        "colab": {
          "base_uri": "https://localhost:8080/"
        },
        "outputId": "de4f2945-8adb-48d3-88e9-6e130c11e946"
      },
      "source": [
        "auc_roc=roc_auc_score(y_test,pred)\n",
        "auc_roc"
      ],
      "execution_count": 29,
      "outputs": [
        {
          "output_type": "execute_result",
          "data": {
            "text/plain": [
              "0.5882771154326297"
            ]
          },
          "metadata": {},
          "execution_count": 29
        }
      ]
    },
    {
      "cell_type": "code",
      "metadata": {
        "id": "cUi-eVGI1Gu0",
        "colab": {
          "base_uri": "https://localhost:8080/"
        },
        "outputId": "68f8bfd0-a2fb-478e-8e75-3dee5571a01a"
      },
      "source": [
        "false_positive_rate, true_positive_rate, thresholds = roc_curve(y_test, pred)\n",
        "roc_auc = auc(false_positive_rate, true_positive_rate)\n",
        "roc_auc"
      ],
      "execution_count": 30,
      "outputs": [
        {
          "output_type": "execute_result",
          "data": {
            "text/plain": [
              "0.5882771154326297"
            ]
          },
          "metadata": {},
          "execution_count": 30
        }
      ]
    },
    {
      "cell_type": "code",
      "metadata": {
        "id": "QBUkyFgT2esE",
        "colab": {
          "base_uri": "https://localhost:8080/",
          "height": 638
        },
        "outputId": "f34ae00d-92cf-472d-901f-efc7ca0076f3"
      },
      "source": [
        "import matplotlib.pyplot as plt\n",
        "plt.figure(figsize=(10,10))\n",
        "plt.title('Receiver Operating Characteristic')\n",
        "plt.plot(false_positive_rate,true_positive_rate, color='red',label = 'AUC = %0.2f' % roc_auc)\n",
        "plt.legend(loc = 'lower right')\n",
        "plt.plot([0, 1], [0, 1],linestyle='--')\n",
        "plt.axis('tight')\n",
        "plt.ylabel('True Positive Rate')\n",
        "plt.xlabel('False Positive Rate')"
      ],
      "execution_count": 31,
      "outputs": [
        {
          "output_type": "execute_result",
          "data": {
            "text/plain": [
              "Text(0.5, 0, 'False Positive Rate')"
            ]
          },
          "metadata": {},
          "execution_count": 31
        },
        {
          "output_type": "display_data",
          "data": {
            "image/png": "[encoded data removed]",
            "text/plain": [
              "<Figure size 720x720 with 1 Axes>"
            ]
          },
          "metadata": {
            "needs_background": "light"
          }
        }
      ]
    },
    {
      "cell_type": "markdown",
      "metadata": {
        "id": "Tzli-XAX4CjG"
      },
      "source": [
        "## Testa Regressão Logistica"
      ]
    },
    {
      "cell_type": "code",
      "metadata": {
        "id": "km_7KiQi2eui"
      },
      "source": [
        "clf_lr = LogisticRegression()"
      ],
      "execution_count": 32,
      "outputs": []
    },
    {
      "cell_type": "code",
      "metadata": {
        "colab": {
          "base_uri": "https://localhost:8080/"
        },
        "id": "1eLG4Gxi29c8",
        "outputId": "6229464e-2dc3-47f7-c183-5bc5a503d376"
      },
      "source": [
        "clf_lr.fit(X_train_unb, y_train)"
      ],
      "execution_count": 33,
      "outputs": [
        {
          "output_type": "stream",
          "name": "stderr",
          "text": [
            "/usr/local/lib/python3.7/dist-packages/sklearn/utils/validation.py:760: DataConversionWarning: A column-vector y was passed when a 1d array was expected. Please change the shape of y to (n_samples, ), for example using ravel().\n",
            "  y = column_or_1d(y, warn=True)\n"
          ]
        },
        {
          "output_type": "execute_result",
          "data": {
            "text/plain": [
              "LogisticRegression(C=1.0, class_weight=None, dual=False, fit_intercept=True,\n",
              "                   intercept_scaling=1, l1_ratio=None, max_iter=100,\n",
              "                   multi_class='auto', n_jobs=None, penalty='l2',\n",
              "                   random_state=None, solver='lbfgs', tol=0.0001, verbose=0,\n",
              "                   warm_start=False)"
            ]
          },
          "metadata": {},
          "execution_count": 33
        }
      ]
    },
    {
      "cell_type": "code",
      "metadata": {
        "id": "bJ4ryrCF29fL"
      },
      "source": [
        "pred = clf_lr.predict(X_test)"
      ],
      "execution_count": 34,
      "outputs": []
    },
    {
      "cell_type": "code",
      "metadata": {
        "id": "izG26B164l4N"
      },
      "source": [
        "y_test = pd.DataFrame(y_test)"
      ],
      "execution_count": 35,
      "outputs": []
    },
    {
      "cell_type": "code",
      "metadata": {
        "colab": {
          "base_uri": "https://localhost:8080/"
        },
        "id": "8oLIbhZrmuPK",
        "outputId": "dc409793-c297-454e-e27b-5ca369a2cd09"
      },
      "source": [
        "print(type(pred))\n",
        "print(type(y_test))"
      ],
      "execution_count": 36,
      "outputs": [
        {
          "output_type": "stream",
          "name": "stdout",
          "text": [
            "<class 'numpy.ndarray'>\n",
            "<class 'pandas.core.frame.DataFrame'>\n"
          ]
        }
      ]
    },
    {
      "cell_type": "code",
      "metadata": {
        "id": "Z5_JomKlnZ4M"
      },
      "source": [
        "pred = pd.DataFrame(pred)"
      ],
      "execution_count": 37,
      "outputs": []
    },
    {
      "cell_type": "code",
      "metadata": {
        "colab": {
          "base_uri": "https://localhost:8080/"
        },
        "id": "1MQkxtuR29qy",
        "outputId": "35c590d2-f7f0-4bbf-825d-79088add670e"
      },
      "source": [
        "print(accuracy_score(pred,y_test))"
      ],
      "execution_count": 38,
      "outputs": [
        {
          "output_type": "stream",
          "name": "stdout",
          "text": [
            "0.9313506645145782\n"
          ]
        }
      ]
    },
    {
      "cell_type": "code",
      "metadata": {
        "id": "_9OBiCxEni4Z"
      },
      "source": [
        ""
      ],
      "execution_count": 38,
      "outputs": []
    },
    {
      "cell_type": "code",
      "metadata": {
        "colab": {
          "base_uri": "https://localhost:8080/"
        },
        "id": "te5BFNy62exY",
        "outputId": "e137ad28-f17f-4a33-c3b9-d8f6f28355b5"
      },
      "source": [
        "auc_roc=classification_report(y_test,pred)\n",
        "print(auc_roc)"
      ],
      "execution_count": 39,
      "outputs": [
        {
          "output_type": "stream",
          "name": "stdout",
          "text": [
            "              precision    recall  f1-score   support\n",
            "\n",
            "           0       0.93      1.00      0.96     27111\n",
            "           1       0.53      0.03      0.07      2008\n",
            "\n",
            "    accuracy                           0.93     29119\n",
            "   macro avg       0.73      0.52      0.51     29119\n",
            "weighted avg       0.91      0.93      0.90     29119\n",
            "\n"
          ]
        }
      ]
    },
    {
      "cell_type": "code",
      "metadata": {
        "colab": {
          "base_uri": "https://localhost:8080/"
        },
        "id": "Cr5UMNfY2ezb",
        "outputId": "8d306905-1cc4-43d7-8666-8d58b96985f9"
      },
      "source": [
        "auc_roc=roc_auc_score(y_test,pred)\n",
        "auc_roc"
      ],
      "execution_count": 40,
      "outputs": [
        {
          "output_type": "execute_result",
          "data": {
            "text/plain": [
              "0.5163052742737876"
            ]
          },
          "metadata": {},
          "execution_count": 40
        }
      ]
    },
    {
      "cell_type": "code",
      "metadata": {
        "colab": {
          "base_uri": "https://localhost:8080/"
        },
        "id": "vT_OYJjq2e2J",
        "outputId": "203dea82-fc98-4d19-ccf9-e71159d4cc69"
      },
      "source": [
        "false_positive_rate, true_positive_rate, thresholds = roc_curve(y_test, pred)\n",
        "roc_auc = auc(false_positive_rate, true_positive_rate)\n",
        "roc_auc"
      ],
      "execution_count": 41,
      "outputs": [
        {
          "output_type": "execute_result",
          "data": {
            "text/plain": [
              "0.5163052742737876"
            ]
          },
          "metadata": {},
          "execution_count": 41
        }
      ]
    },
    {
      "cell_type": "code",
      "metadata": {
        "colab": {
          "base_uri": "https://localhost:8080/",
          "height": 638
        },
        "id": "shtO7cel4TTV",
        "outputId": "974329ad-f0e3-4240-d6d5-71d946e70ab3"
      },
      "source": [
        "plt.figure(figsize=(10,10))\n",
        "plt.title('Receiver Operating Characteristic')\n",
        "plt.plot(false_positive_rate,true_positive_rate, color='red',label = 'AUC = %0.2f' % roc_auc)\n",
        "plt.legend(loc = 'lower right')\n",
        "plt.plot([0, 1], [0, 1],linestyle='--')\n",
        "plt.axis('tight')\n",
        "plt.ylabel('True Positive Rate')\n",
        "plt.xlabel('False Positive Rate')"
      ],
      "execution_count": 42,
      "outputs": [
        {
          "output_type": "execute_result",
          "data": {
            "text/plain": [
              "Text(0.5, 0, 'False Positive Rate')"
            ]
          },
          "metadata": {},
          "execution_count": 42
        },
        {
          "output_type": "display_data",
          "data": {
            "image/png": "[encoded data removed]",
            "text/plain": [
              "<Figure size 720x720 with 1 Axes>"
            ]
          },
          "metadata": {
            "needs_background": "light"
          }
        }
      ]
    },
    {
      "cell_type": "markdown",
      "metadata": {
        "id": "Pcge06Lrq5U9"
      },
      "source": [
        "## Testar Gaussian"
      ]
    },
    {
      "cell_type": "code",
      "metadata": {
        "id": "loG4UL-zpwVi"
      },
      "source": [
        "clf_GNB = GaussianNB()"
      ],
      "execution_count": 43,
      "outputs": []
    },
    {
      "cell_type": "code",
      "metadata": {
        "colab": {
          "base_uri": "https://localhost:8080/"
        },
        "id": "M7Yi4W9up5Eg",
        "outputId": "23fb0c5c-6d35-4086-ecf9-28b6d4084e37"
      },
      "source": [
        "clf_GNB.fit(X_train_unb, y_train)"
      ],
      "execution_count": 44,
      "outputs": [
        {
          "output_type": "stream",
          "name": "stderr",
          "text": [
            "/usr/local/lib/python3.7/dist-packages/sklearn/naive_bayes.py:206: DataConversionWarning: A column-vector y was passed when a 1d array was expected. Please change the shape of y to (n_samples, ), for example using ravel().\n",
            "  y = column_or_1d(y, warn=True)\n"
          ]
        },
        {
          "output_type": "execute_result",
          "data": {
            "text/plain": [
              "GaussianNB(priors=None, var_smoothing=1e-09)"
            ]
          },
          "metadata": {},
          "execution_count": 44
        }
      ]
    },
    {
      "cell_type": "code",
      "metadata": {
        "id": "NPrz0YaUp5HJ"
      },
      "source": [
        "pred = clf_GNB.predict(X_test)"
      ],
      "execution_count": 45,
      "outputs": []
    },
    {
      "cell_type": "code",
      "metadata": {
        "colab": {
          "base_uri": "https://localhost:8080/"
        },
        "id": "22cGwGWPp5KW",
        "outputId": "4a22c332-113f-4c77-ef2f-7339eb417924"
      },
      "source": [
        "print(accuracy_score(pred,y_test))"
      ],
      "execution_count": 46,
      "outputs": [
        {
          "output_type": "stream",
          "name": "stdout",
          "text": [
            "0.9270579346818228\n"
          ]
        }
      ]
    },
    {
      "cell_type": "code",
      "metadata": {
        "colab": {
          "base_uri": "https://localhost:8080/"
        },
        "id": "F0NsZK0bp5NF",
        "outputId": "ddd00c9a-bc4f-4ef9-837c-8e3c2af0db3a"
      },
      "source": [
        "auc_roc=classification_report(y_test,pred)\n",
        "print(auc_roc)"
      ],
      "execution_count": 47,
      "outputs": [
        {
          "output_type": "stream",
          "name": "stdout",
          "text": [
            "              precision    recall  f1-score   support\n",
            "\n",
            "           0       0.93      0.99      0.96     27111\n",
            "           1       0.25      0.03      0.05      2008\n",
            "\n",
            "    accuracy                           0.93     29119\n",
            "   macro avg       0.59      0.51      0.51     29119\n",
            "weighted avg       0.89      0.93      0.90     29119\n",
            "\n"
          ]
        }
      ]
    },
    {
      "cell_type": "code",
      "metadata": {
        "colab": {
          "base_uri": "https://localhost:8080/"
        },
        "id": "VVSBN0MPp5PG",
        "outputId": "73519278-0ee4-4bca-bba0-989455c330da"
      },
      "source": [
        "auc_roc=roc_auc_score(y_test,pred)\n",
        "auc_roc"
      ],
      "execution_count": 48,
      "outputs": [
        {
          "output_type": "execute_result",
          "data": {
            "text/plain": [
              "0.5112332015304941"
            ]
          },
          "metadata": {},
          "execution_count": 48
        }
      ]
    },
    {
      "cell_type": "code",
      "metadata": {
        "colab": {
          "base_uri": "https://localhost:8080/"
        },
        "id": "n0o6jnz7p5RV",
        "outputId": "039fd67c-b50b-4005-ceb7-54593ec4e57c"
      },
      "source": [
        "false_positive_rate, true_positive_rate, thresholds = roc_curve(y_test, pred)\n",
        "roc_auc = auc(false_positive_rate, true_positive_rate)\n",
        "roc_auc"
      ],
      "execution_count": 49,
      "outputs": [
        {
          "output_type": "execute_result",
          "data": {
            "text/plain": [
              "0.5112332015304941"
            ]
          },
          "metadata": {},
          "execution_count": 49
        }
      ]
    },
    {
      "cell_type": "code",
      "metadata": {
        "colab": {
          "base_uri": "https://localhost:8080/",
          "height": 638
        },
        "id": "f3IIjSa7p5T1",
        "outputId": "31ea44a8-27d3-4529-e6d6-c25ed2f02929"
      },
      "source": [
        "plt.figure(figsize=(10,10))\n",
        "plt.title('Receiver Operating Characteristic')\n",
        "plt.plot(false_positive_rate,true_positive_rate, color='red',label = 'AUC = %0.2f' % roc_auc)\n",
        "plt.legend(loc = 'lower right')\n",
        "plt.plot([0, 1], [0, 1],linestyle='--')\n",
        "plt.axis('tight')\n",
        "plt.ylabel('True Positive Rate')\n",
        "plt.xlabel('False Positive Rate')"
      ],
      "execution_count": 50,
      "outputs": [
        {
          "output_type": "execute_result",
          "data": {
            "text/plain": [
              "Text(0.5, 0, 'False Positive Rate')"
            ]
          },
          "metadata": {},
          "execution_count": 50
        },
        {
          "output_type": "display_data",
          "data": {
            "image/png": "[encoded data removed]",
            "text/plain": [
              "<Figure size 720x720 with 1 Axes>"
            ]
          },
          "metadata": {
            "needs_background": "light"
          }
        }
      ]
    },
    {
      "cell_type": "markdown",
      "metadata": {
        "id": "LR4Hbd1NpT4O"
      },
      "source": [
        " O Modelo teve como parâmetro de comparação a ROC_AUC com o objetivo do modelo ter uma capacidade de separabilidade entre as classes.\n",
        "O modelo que melhor se adequou foi a Random Forest, alcançando uma ROC_AUC de 0.5867"
      ]
    },
    {
      "cell_type": "code",
      "metadata": {
        "id": "3m89wPmUvMwZ"
      },
      "source": [
        ""
      ],
      "execution_count": 50,
      "outputs": []
    },
    {
      "cell_type": "code",
      "metadata": {
        "id": "cIKedmgAvNcQ"
      },
      "source": [
        ""
      ],
      "execution_count": 50,
      "outputs": []
    },
    {
      "cell_type": "code",
      "metadata": {
        "colab": {
          "base_uri": "https://localhost:8080/",
          "height": 224
        },
        "id": "WP_gcZmUvNi4",
        "outputId": "abd99b12-5faf-43d6-e560-9cb9a3507097"
      },
      "source": [
        "url = 'https://raw.githubusercontent.com/matheusnery/inadimplencia/main/teste.csv'\n",
        "df_test = pd.read_csv(url)\n",
        "df_test.head(5)"
      ],
      "execution_count": 51,
      "outputs": [
        {
          "output_type": "execute_result",
          "data": {
            "text/html": [
              "<div>\n",
              "<style scoped>\n",
              "    .dataframe tbody tr th:only-of-type {\n",
              "        vertical-align: middle;\n",
              "    }\n",
              "\n",
              "    .dataframe tbody tr th {\n",
              "        vertical-align: top;\n",
              "    }\n",
              "\n",
              "    .dataframe thead th {\n",
              "        text-align: right;\n",
              "    }\n",
              "</style>\n",
              "<table border=\"1\" class=\"dataframe\">\n",
              "  <thead>\n",
              "    <tr style=\"text-align: right;\">\n",
              "      <th></th>\n",
              "      <th>util_linhas_inseguras</th>\n",
              "      <th>idade</th>\n",
              "      <th>vezes_passou_de_30_59_dias</th>\n",
              "      <th>razao_debito</th>\n",
              "      <th>salario_mensal</th>\n",
              "      <th>numero_linhas_crdto_aberto</th>\n",
              "      <th>numero_vezes_passou_90_dias</th>\n",
              "      <th>numero_emprestimos_imobiliarios</th>\n",
              "      <th>numero_de_vezes_que_passou_60_89_dias</th>\n",
              "      <th>numero_de_dependentes</th>\n",
              "    </tr>\n",
              "  </thead>\n",
              "  <tbody>\n",
              "    <tr>\n",
              "      <th>0</th>\n",
              "      <td>0.025849</td>\n",
              "      <td>62</td>\n",
              "      <td>0</td>\n",
              "      <td>0.081775</td>\n",
              "      <td>8180.0</td>\n",
              "      <td>3</td>\n",
              "      <td>0</td>\n",
              "      <td>2</td>\n",
              "      <td>0</td>\n",
              "      <td>0.0</td>\n",
              "    </tr>\n",
              "    <tr>\n",
              "      <th>1</th>\n",
              "      <td>0.667083</td>\n",
              "      <td>55</td>\n",
              "      <td>0</td>\n",
              "      <td>0.153112</td>\n",
              "      <td>2200.0</td>\n",
              "      <td>3</td>\n",
              "      <td>0</td>\n",
              "      <td>0</td>\n",
              "      <td>0</td>\n",
              "      <td>0.0</td>\n",
              "    </tr>\n",
              "    <tr>\n",
              "      <th>2</th>\n",
              "      <td>0.007093</td>\n",
              "      <td>44</td>\n",
              "      <td>0</td>\n",
              "      <td>0.148800</td>\n",
              "      <td>7499.0</td>\n",
              "      <td>20</td>\n",
              "      <td>0</td>\n",
              "      <td>1</td>\n",
              "      <td>0</td>\n",
              "      <td>0.0</td>\n",
              "    </tr>\n",
              "    <tr>\n",
              "      <th>3</th>\n",
              "      <td>0.091213</td>\n",
              "      <td>54</td>\n",
              "      <td>0</td>\n",
              "      <td>0.351635</td>\n",
              "      <td>5900.0</td>\n",
              "      <td>15</td>\n",
              "      <td>0</td>\n",
              "      <td>1</td>\n",
              "      <td>1</td>\n",
              "      <td>0.0</td>\n",
              "    </tr>\n",
              "    <tr>\n",
              "      <th>4</th>\n",
              "      <td>0.112680</td>\n",
              "      <td>54</td>\n",
              "      <td>0</td>\n",
              "      <td>0.065959</td>\n",
              "      <td>2167.0</td>\n",
              "      <td>3</td>\n",
              "      <td>0</td>\n",
              "      <td>0</td>\n",
              "      <td>0</td>\n",
              "      <td>0.0</td>\n",
              "    </tr>\n",
              "  </tbody>\n",
              "</table>\n",
              "</div>"
            ],
            "text/plain": [
              "   util_linhas_inseguras  ...  numero_de_dependentes\n",
              "0               0.025849  ...                    0.0\n",
              "1               0.667083  ...                    0.0\n",
              "2               0.007093  ...                    0.0\n",
              "3               0.091213  ...                    0.0\n",
              "4               0.112680  ...                    0.0\n",
              "\n",
              "[5 rows x 10 columns]"
            ]
          },
          "metadata": {},
          "execution_count": 51
        }
      ]
    },
    {
      "cell_type": "code",
      "metadata": {
        "colab": {
          "base_uri": "https://localhost:8080/",
          "height": 317
        },
        "id": "FWsMy04YvjrR",
        "outputId": "16871ed5-07cb-4eb9-b4cc-8c3a553df241"
      },
      "source": [
        "df_test.describe()"
      ],
      "execution_count": 52,
      "outputs": [
        {
          "output_type": "execute_result",
          "data": {
            "text/html": [
              "<div>\n",
              "<style scoped>\n",
              "    .dataframe tbody tr th:only-of-type {\n",
              "        vertical-align: middle;\n",
              "    }\n",
              "\n",
              "    .dataframe tbody tr th {\n",
              "        vertical-align: top;\n",
              "    }\n",
              "\n",
              "    .dataframe thead th {\n",
              "        text-align: right;\n",
              "    }\n",
              "</style>\n",
              "<table border=\"1\" class=\"dataframe\">\n",
              "  <thead>\n",
              "    <tr style=\"text-align: right;\">\n",
              "      <th></th>\n",
              "      <th>util_linhas_inseguras</th>\n",
              "      <th>idade</th>\n",
              "      <th>vezes_passou_de_30_59_dias</th>\n",
              "      <th>razao_debito</th>\n",
              "      <th>salario_mensal</th>\n",
              "      <th>numero_linhas_crdto_aberto</th>\n",
              "      <th>numero_vezes_passou_90_dias</th>\n",
              "      <th>numero_emprestimos_imobiliarios</th>\n",
              "      <th>numero_de_vezes_que_passou_60_89_dias</th>\n",
              "      <th>numero_de_dependentes</th>\n",
              "    </tr>\n",
              "  </thead>\n",
              "  <tbody>\n",
              "    <tr>\n",
              "      <th>count</th>\n",
              "      <td>40000.000000</td>\n",
              "      <td>40000.000000</td>\n",
              "      <td>40000.000000</td>\n",
              "      <td>40000.000000</td>\n",
              "      <td>3.203200e+04</td>\n",
              "      <td>40000.000000</td>\n",
              "      <td>40000.000000</td>\n",
              "      <td>40000.000000</td>\n",
              "      <td>40000.000000</td>\n",
              "      <td>38954.000000</td>\n",
              "    </tr>\n",
              "    <tr>\n",
              "      <th>mean</th>\n",
              "      <td>6.374199</td>\n",
              "      <td>52.404025</td>\n",
              "      <td>0.412725</td>\n",
              "      <td>348.004166</td>\n",
              "      <td>6.760602e+03</td>\n",
              "      <td>8.472525</td>\n",
              "      <td>0.255025</td>\n",
              "      <td>1.013700</td>\n",
              "      <td>0.230750</td>\n",
              "      <td>0.756508</td>\n",
              "    </tr>\n",
              "    <tr>\n",
              "      <th>std</th>\n",
              "      <td>242.617247</td>\n",
              "      <td>14.781468</td>\n",
              "      <td>4.057899</td>\n",
              "      <td>1934.436246</td>\n",
              "      <td>1.683639e+04</td>\n",
              "      <td>5.164960</td>\n",
              "      <td>4.034327</td>\n",
              "      <td>1.112494</td>\n",
              "      <td>4.017506</td>\n",
              "      <td>1.116244</td>\n",
              "    </tr>\n",
              "    <tr>\n",
              "      <th>min</th>\n",
              "      <td>0.000000</td>\n",
              "      <td>21.000000</td>\n",
              "      <td>0.000000</td>\n",
              "      <td>0.000000</td>\n",
              "      <td>0.000000e+00</td>\n",
              "      <td>0.000000</td>\n",
              "      <td>0.000000</td>\n",
              "      <td>0.000000</td>\n",
              "      <td>0.000000</td>\n",
              "      <td>0.000000</td>\n",
              "    </tr>\n",
              "    <tr>\n",
              "      <th>25%</th>\n",
              "      <td>0.029362</td>\n",
              "      <td>41.000000</td>\n",
              "      <td>0.000000</td>\n",
              "      <td>0.175360</td>\n",
              "      <td>3.400000e+03</td>\n",
              "      <td>5.000000</td>\n",
              "      <td>0.000000</td>\n",
              "      <td>0.000000</td>\n",
              "      <td>0.000000</td>\n",
              "      <td>0.000000</td>\n",
              "    </tr>\n",
              "    <tr>\n",
              "      <th>50%</th>\n",
              "      <td>0.149491</td>\n",
              "      <td>52.000000</td>\n",
              "      <td>0.000000</td>\n",
              "      <td>0.366172</td>\n",
              "      <td>5.409500e+03</td>\n",
              "      <td>8.000000</td>\n",
              "      <td>0.000000</td>\n",
              "      <td>1.000000</td>\n",
              "      <td>0.000000</td>\n",
              "      <td>0.000000</td>\n",
              "    </tr>\n",
              "    <tr>\n",
              "      <th>75%</th>\n",
              "      <td>0.549762</td>\n",
              "      <td>63.000000</td>\n",
              "      <td>0.000000</td>\n",
              "      <td>0.872253</td>\n",
              "      <td>8.284000e+03</td>\n",
              "      <td>11.000000</td>\n",
              "      <td>0.000000</td>\n",
              "      <td>2.000000</td>\n",
              "      <td>0.000000</td>\n",
              "      <td>1.000000</td>\n",
              "    </tr>\n",
              "    <tr>\n",
              "      <th>max</th>\n",
              "      <td>22000.000000</td>\n",
              "      <td>109.000000</td>\n",
              "      <td>98.000000</td>\n",
              "      <td>307001.000000</td>\n",
              "      <td>1.794060e+06</td>\n",
              "      <td>57.000000</td>\n",
              "      <td>98.000000</td>\n",
              "      <td>25.000000</td>\n",
              "      <td>98.000000</td>\n",
              "      <td>13.000000</td>\n",
              "    </tr>\n",
              "  </tbody>\n",
              "</table>\n",
              "</div>"
            ],
            "text/plain": [
              "       util_linhas_inseguras  ...  numero_de_dependentes\n",
              "count           40000.000000  ...           38954.000000\n",
              "mean                6.374199  ...               0.756508\n",
              "std               242.617247  ...               1.116244\n",
              "min                 0.000000  ...               0.000000\n",
              "25%                 0.029362  ...               0.000000\n",
              "50%                 0.149491  ...               0.000000\n",
              "75%                 0.549762  ...               1.000000\n",
              "max             22000.000000  ...              13.000000\n",
              "\n",
              "[8 rows x 10 columns]"
            ]
          },
          "metadata": {},
          "execution_count": 52
        }
      ]
    },
    {
      "cell_type": "code",
      "metadata": {
        "colab": {
          "base_uri": "https://localhost:8080/"
        },
        "id": "_XHi3s9ZvlP1",
        "outputId": "f92bcc5a-0f4c-44ed-8b61-e26ea3591fa1"
      },
      "source": [
        "df_test.isnull().sum()"
      ],
      "execution_count": 53,
      "outputs": [
        {
          "output_type": "execute_result",
          "data": {
            "text/plain": [
              "util_linhas_inseguras                       0\n",
              "idade                                       0\n",
              "vezes_passou_de_30_59_dias                  0\n",
              "razao_debito                                0\n",
              "salario_mensal                           7968\n",
              "numero_linhas_crdto_aberto                  0\n",
              "numero_vezes_passou_90_dias                 0\n",
              "numero_emprestimos_imobiliarios             0\n",
              "numero_de_vezes_que_passou_60_89_dias       0\n",
              "numero_de_dependentes                    1046\n",
              "dtype: int64"
            ]
          },
          "metadata": {},
          "execution_count": 53
        }
      ]
    },
    {
      "cell_type": "code",
      "metadata": {
        "id": "oD4D_OxIvnZG"
      },
      "source": [
        "\n",
        "df_test['numero_de_dependentes'].fillna(value=df_test['numero_de_dependentes'].mean(), inplace=True)\n",
        "df_test['salario_mensal'].fillna(value=df_test['salario_mensal'].mean(), inplace=True)\n"
      ],
      "execution_count": 54,
      "outputs": []
    },
    {
      "cell_type": "code",
      "metadata": {
        "colab": {
          "base_uri": "https://localhost:8080/"
        },
        "id": "D79DDRQDzBUp",
        "outputId": "f0c79358-5f65-4b19-a7bd-99a0fbc1eec5"
      },
      "source": [
        "df_test.isnull().sum()"
      ],
      "execution_count": 55,
      "outputs": [
        {
          "output_type": "execute_result",
          "data": {
            "text/plain": [
              "util_linhas_inseguras                    0\n",
              "idade                                    0\n",
              "vezes_passou_de_30_59_dias               0\n",
              "razao_debito                             0\n",
              "salario_mensal                           0\n",
              "numero_linhas_crdto_aberto               0\n",
              "numero_vezes_passou_90_dias              0\n",
              "numero_emprestimos_imobiliarios          0\n",
              "numero_de_vezes_que_passou_60_89_dias    0\n",
              "numero_de_dependentes                    0\n",
              "dtype: int64"
            ]
          },
          "metadata": {},
          "execution_count": 55
        }
      ]
    },
    {
      "cell_type": "code",
      "metadata": {
        "id": "YBFMnS0Nv7gG"
      },
      "source": [
        "scaler_model = StandardScaler()\n",
        "scaler_model.fit(X)\n",
        "X_train = scaler_model.transform(X)\n",
        "# y"
      ],
      "execution_count": 56,
      "outputs": []
    },
    {
      "cell_type": "code",
      "metadata": {
        "id": "AKHtuL5SxsIl"
      },
      "source": [
        "X_test = scaler_model.transform(df_test)"
      ],
      "execution_count": 57,
      "outputs": []
    },
    {
      "cell_type": "code",
      "metadata": {
        "id": "hRu-SXd6y7lm"
      },
      "source": [
        ""
      ],
      "execution_count": 57,
      "outputs": []
    },
    {
      "cell_type": "code",
      "metadata": {
        "id": "jpIGXSzKx4am"
      },
      "source": [
        "clf_model = RandomForestClassifier(n_estimators=1000, random_state=7)"
      ],
      "execution_count": 58,
      "outputs": []
    },
    {
      "cell_type": "code",
      "metadata": {
        "colab": {
          "base_uri": "https://localhost:8080/"
        },
        "id": "1Z2WKgkSx-Rl",
        "outputId": "5d813c30-ea61-4554-84fe-650422b08879"
      },
      "source": [
        "clf_model.fit(X_train,y)"
      ],
      "execution_count": 59,
      "outputs": [
        {
          "output_type": "stream",
          "name": "stderr",
          "text": [
            "/usr/local/lib/python3.7/dist-packages/ipykernel_launcher.py:1: DataConversionWarning: A column-vector y was passed when a 1d array was expected. Please change the shape of y to (n_samples,), for example using ravel().\n",
            "  \"\"\"Entry point for launching an IPython kernel.\n"
          ]
        },
        {
          "output_type": "execute_result",
          "data": {
            "text/plain": [
              "RandomForestClassifier(bootstrap=True, ccp_alpha=0.0, class_weight=None,\n",
              "                       criterion='gini', max_depth=None, max_features='auto',\n",
              "                       max_leaf_nodes=None, max_samples=None,\n",
              "                       min_impurity_decrease=0.0, min_impurity_split=None,\n",
              "                       min_samples_leaf=1, min_samples_split=2,\n",
              "                       min_weight_fraction_leaf=0.0, n_estimators=1000,\n",
              "                       n_jobs=None, oob_score=False, random_state=7, verbose=0,\n",
              "                       warm_start=False)"
            ]
          },
          "metadata": {},
          "execution_count": 59
        }
      ]
    },
    {
      "cell_type": "code",
      "metadata": {
        "id": "SoVFMkyHyKLl"
      },
      "source": [
        "pred_model = pd.DataFrame(clf_model.predict(X_test))"
      ],
      "execution_count": 60,
      "outputs": []
    },
    {
      "cell_type": "code",
      "metadata": {
        "colab": {
          "base_uri": "https://localhost:8080/",
          "height": 297
        },
        "id": "TdOyDG5syPbm",
        "outputId": "c8ff9c55-fd3a-45cc-85e5-0eaec6795649"
      },
      "source": [
        "pred_model.describe()"
      ],
      "execution_count": 61,
      "outputs": [
        {
          "output_type": "execute_result",
          "data": {
            "text/html": [
              "<div>\n",
              "<style scoped>\n",
              "    .dataframe tbody tr th:only-of-type {\n",
              "        vertical-align: middle;\n",
              "    }\n",
              "\n",
              "    .dataframe tbody tr th {\n",
              "        vertical-align: top;\n",
              "    }\n",
              "\n",
              "    .dataframe thead th {\n",
              "        text-align: right;\n",
              "    }\n",
              "</style>\n",
              "<table border=\"1\" class=\"dataframe\">\n",
              "  <thead>\n",
              "    <tr style=\"text-align: right;\">\n",
              "      <th></th>\n",
              "      <th>0</th>\n",
              "    </tr>\n",
              "  </thead>\n",
              "  <tbody>\n",
              "    <tr>\n",
              "      <th>count</th>\n",
              "      <td>40000.000000</td>\n",
              "    </tr>\n",
              "    <tr>\n",
              "      <th>mean</th>\n",
              "      <td>0.022750</td>\n",
              "    </tr>\n",
              "    <tr>\n",
              "      <th>std</th>\n",
              "      <td>0.149107</td>\n",
              "    </tr>\n",
              "    <tr>\n",
              "      <th>min</th>\n",
              "      <td>0.000000</td>\n",
              "    </tr>\n",
              "    <tr>\n",
              "      <th>25%</th>\n",
              "      <td>0.000000</td>\n",
              "    </tr>\n",
              "    <tr>\n",
              "      <th>50%</th>\n",
              "      <td>0.000000</td>\n",
              "    </tr>\n",
              "    <tr>\n",
              "      <th>75%</th>\n",
              "      <td>0.000000</td>\n",
              "    </tr>\n",
              "    <tr>\n",
              "      <th>max</th>\n",
              "      <td>1.000000</td>\n",
              "    </tr>\n",
              "  </tbody>\n",
              "</table>\n",
              "</div>"
            ],
            "text/plain": [
              "                  0\n",
              "count  40000.000000\n",
              "mean       0.022750\n",
              "std        0.149107\n",
              "min        0.000000\n",
              "25%        0.000000\n",
              "50%        0.000000\n",
              "75%        0.000000\n",
              "max        1.000000"
            ]
          },
          "metadata": {},
          "execution_count": 61
        }
      ]
    },
    {
      "cell_type": "code",
      "metadata": {
        "id": "hgA3p6MZ0gCF"
      },
      "source": [
        ""
      ],
      "execution_count": 61,
      "outputs": []
    }
  ]
}